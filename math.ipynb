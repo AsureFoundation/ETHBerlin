{
 "cells": [
  {
   "cell_type": "code",
   "execution_count": 2,
   "metadata": {},
   "outputs": [],
   "source": [
    "import matplotlib.pyplot as plt  \n",
    "import numpy as np"
   ]
  },
  {
   "cell_type": "markdown",
   "metadata": {},
   "source": [
    "## Pension months"
   ]
  },
  {
   "cell_type": "markdown",
   "metadata": {},
   "source": [
    "The number of months people will receive a pension, is based on the number of months they paid into the system.\n",
    "Asume, the goal is to pay 40 years (480 months) into the pension:\n",
    "\n",
    "\n",
    "$$pensionMonths(paidMonths) = \\frac{paidMonths^2}{480} $$\n",
    "\n",
    "The idea of using a quadratic function is, to incentivize people to pay 40 years if possible."
   ]
  },
  {
   "cell_type": "code",
   "execution_count": 10,
   "metadata": {},
   "outputs": [
    {
     "data": {
      "text/plain": [
       "[<matplotlib.lines.Line2D at 0x1ff459ac1d0>]"
      ]
     },
     "execution_count": 10,
     "metadata": {},
     "output_type": "execute_result"
    },
    {
     "data": {
      "image/png": "[encoded data removed]",
      "text/plain": [
       "<matplotlib.figure.Figure at 0x1ff45685358>"
      ]
     },
     "metadata": {},
     "output_type": "display_data"
    }
   ],
   "source": [
    "paidMonths = np.linspace(0, 480)\n",
    "plt.plot(paidMonths, paidMonths**2/480, label='linear')"
   ]
  },
  {
   "cell_type": "markdown",
   "metadata": {},
   "source": [
    "## Pension token bonus factor"
   ]
  },
  {
   "cell_type": "markdown",
   "metadata": {},
   "source": [
    "Also, we want to reward people that start using the pension system earlier and grant a bonus with the first 40 years. The bonus decreases over time.\n",
    "\n",
    "$$bonusFactor(year)=1.5-(0.135*\\log{(year)})$$"
   ]
  },
  {
   "cell_type": "code",
   "execution_count": 21,
   "metadata": {
    "scrolled": true
   },
   "outputs": [
    {
     "data": {
      "text/plain": [
       "[<matplotlib.lines.Line2D at 0x1ff46cd2588>]"
      ]
     },
     "execution_count": 21,
     "metadata": {},
     "output_type": "execute_result"
    },
    {
     "data": {
      "image/png": "[encoded data removed]",
      "text/plain": [
       "<matplotlib.figure.Figure at 0x1ff4564e358>"
      ]
     },
     "metadata": {},
     "output_type": "display_data"
    }
   ],
   "source": [
    "year = np.linspace(1, 100)\n",
    "plt.plot(year, 1.5 - (0.135 * np.log(year)), label='bonus factor')"
   ]
  },
  {
   "cell_type": "markdown",
   "metadata": {},
   "source": [
    "## Target price"
   ]
  },
  {
   "cell_type": "markdown",
   "metadata": {},
   "source": [
    "$$targetPrice(month) = \\tilde{payments[month]} $$"
   ]
  },
  {
   "cell_type": "markdown",
   "metadata": {},
   "source": [
    "## Pension token"
   ]
  },
  {
   "cell_type": "markdown",
   "metadata": {},
   "source": [
    "$$\n",
    "\\\n",
    "    pensionTokens(amount)= \n",
    "\\begin{cases}\n",
    "    1 + \\frac{ amount-targetPrice(month)}{\\max{payments[month]} - targetPrice(month)} * bonusFactor(year),& \\text{if } amount\\geq targetPrice(month)\\\\\n",
    "    \\frac{ amount- \\min{payments[month]}}{targetPrice(month) - \\min{payments[month]}} * bonusFactor(year),              & \\text{otherwise}\n",
    "\\end{cases}\n",
    "\\\n",
    "$$"
   ]
  },
  {
   "cell_type": "markdown",
   "metadata": {},
   "source": [
    "## Pension payout"
   ]
  },
  {
   "cell_type": "markdown",
   "metadata": {},
   "source": [
    "$$ monthFactor = \\frac{\\sum_{k=1}^{paidMonths} pensionTokens(amount_{user})}{paidMonths} $$\n",
    "\n",
    "$$ myActivatedPart = \\frac{monthFactor}{\\sum_{k=1}^{pensioners} monthFactor} $$\n",
    "\n",
    "$$ distributionPercentage = \\frac{\\sum_{k=1}^{pensioners} monthFactor}{totalPensionTokenSupply} $$\n",
    "\n",
    "$$ distributionAmount = (fond * distributionPercentage) + monthFund * (1 - distributionPercentage) $$\n",
    "\n",
    "$$ pensionPayout = distributionAmount * myActivatedPart $$\n",
    "\n",
    "\n",
    "$$ pensionPayout = ((fond * (\\frac{\\sum_{k=1}^{pensioners} monthFactor}{totalPensionTokenSupply})) + monthFund * (1 - (\\frac{\\sum_{k=1}^{pensioners} monthFactor}{totalPensionTokenSupply}))) * \\frac{\\frac{\\sum_{k=1}^{paidMonths} pensionTokens(amount_{user})}{paidMonths}}{\\sum_{k=1}^{pensioners} monthFactor} $$\n"
   ]
  },
  {
   "cell_type": "code",
   "execution_count": null,
   "metadata": {},
   "outputs": [],
   "source": []
  }
 ],
 "metadata": {
  "kernelspec": {
   "display_name": "Python 3",
   "language": "python",
   "name": "python3"
  },
  "language_info": {
   "codemirror_mode": {
    "name": "ipython",
    "version": 3
   },
   "file_extension": ".py",
   "mimetype": "text/x-python",
   "name": "python",
   "nbconvert_exporter": "python",
   "pygments_lexer": "ipython3",
   "version": "3.6.4"
  }
 },
 "nbformat": 4,
 "nbformat_minor": 2
}
